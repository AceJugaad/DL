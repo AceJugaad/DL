{
  "nbformat": 4,
  "nbformat_minor": 0,
  "metadata": {
    "colab": {
      "provenance": []
    },
    "kernelspec": {
      "name": "python3",
      "display_name": "Python 3"
    },
    "language_info": {
      "name": "python"
    }
  },
  "cells": [
    {
      "cell_type": "code",
      "source": [
        "!pip install textdistance\n",
        "!pip install textdistance"
      ],
      "metadata": {
        "colab": {
          "base_uri": "https://localhost:8080/"
        },
        "id": "YyCjOYjiQdfW",
        "outputId": "90877880-6567-422b-d5f4-06cb1e5521a9"
      },
      "execution_count": null,
      "outputs": [
        {
          "output_type": "stream",
          "name": "stdout",
          "text": [
            "Collecting textdistance\n",
            "  Downloading textdistance-4.5.0-py3-none-any.whl (31 kB)\n",
            "Installing collected packages: textdistance\n",
            "Successfully installed textdistance-4.5.0\n",
            "Requirement already satisfied: textdistance in /usr/local/lib/python3.10/dist-packages (4.5.0)\n"
          ]
        }
      ]
    },
    {
      "cell_type": "code",
      "execution_count": null,
      "metadata": {
        "id": "L6lGnMTzP_X5"
      },
      "outputs": [],
      "source": [
        "import numpy as np\n",
        "import re\n",
        "import textdistance\n",
        "import sklearn\n",
        "from sklearn.cluster import AgglomerativeClustering"
      ]
    },
    {
      "cell_type": "code",
      "source": [
        "texts = [\n",
        "'Reliance supermarket', 'Reliance hypermarket', 'Reliance', 'Reliance', 'Reliancedowntown',\n",
        "'Relianc market',\n",
        "'Mumbai', 'Mumbai Hyper', 'Mumbai dxb', 'mumbai airport',\n",
        "'k.m trading', 'KM Trading', 'KM trade', 'K.M. Trading', 'KM.Trading'\n",
        "]"
      ],
      "metadata": {
        "id": "M7Y2rjgRSDJL"
      },
      "execution_count": null,
      "outputs": []
    },
    {
      "cell_type": "code",
      "source": [
        "def normalize(text):\n",
        "    \"\"\" Keep only lower-cased text and numbers\"\"\"\n",
        "    return re.sub('[^a-z0-9]+', ' ', text.lower())"
      ],
      "metadata": {
        "id": "UjFMRlXQSO46"
      },
      "execution_count": null,
      "outputs": []
    },
    {
      "cell_type": "code",
      "source": [
        "def group_texts(texts, threshold=0.4):\n",
        "    \"\"\" Replace each text with the representative of its cluster\"\"\"\n",
        "    normalized_texts = np.array([normalize(text) for text in texts])\n",
        "    distances = 1 - np.array([\n",
        "    [textdistance.jaro_winkler(one, another) for one in normalized_texts]\n",
        "    for another in normalized_texts])\n",
        "    clustering = AgglomerativeClustering(distance_threshold=threshold, # this parameter needs to be tuned carefully\n",
        "        affinity=\"precomputed\", linkage=\"complete\", n_clusters=None\n",
        "    ).fit(distances)\n",
        "    centers = dict()\n",
        "    for cluster_id in set(clustering.labels_):\n",
        "        index = clustering.labels_ == cluster_id\n",
        "        centrality = distances[:, index][index].sum(axis=1)\n",
        "        centers[cluster_id] = normalized_texts[index][centrality.argmin()]\n",
        "    return [centers[i] for i in clustering.labels_]\n",
        "print(group_texts(texts))"
      ],
      "metadata": {
        "colab": {
          "base_uri": "https://localhost:8080/"
        },
        "id": "HnwTUqozSTQC",
        "outputId": "100a1781-d907-494d-9d5f-6adffedb8015"
      },
      "execution_count": null,
      "outputs": [
        {
          "output_type": "stream",
          "name": "stdout",
          "text": [
            "['reliance', 'reliance', 'reliance', 'reliance', 'reliance', 'reliance', 'mumbai', 'mumbai', 'mumbai', 'mumbai', 'km trading', 'km trading', 'km trading', 'km trading', 'km trading']\n"
          ]
        },
        {
          "output_type": "stream",
          "name": "stderr",
          "text": [
            "/usr/local/lib/python3.10/dist-packages/sklearn/cluster/_agglomerative.py:983: FutureWarning: Attribute `affinity` was deprecated in version 1.2 and will be removed in 1.4. Use `metric` instead\n",
            "  warnings.warn(\n"
          ]
        }
      ]
    }
  ]
}