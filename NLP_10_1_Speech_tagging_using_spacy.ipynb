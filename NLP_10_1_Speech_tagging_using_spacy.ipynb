{
  "nbformat": 4,
  "nbformat_minor": 0,
  "metadata": {
    "colab": {
      "provenance": []
    },
    "kernelspec": {
      "name": "python3",
      "display_name": "Python 3"
    },
    "language_info": {
      "name": "python"
    }
  },
  "cells": [
    {
      "cell_type": "code",
      "execution_count": 3,
      "metadata": {
        "colab": {
          "base_uri": "https://localhost:8080/"
        },
        "id": "npjzvVuaae2z",
        "outputId": "439f32d7-e3d6-4f7b-e81d-4b1175c2dba9"
      },
      "outputs": [
        {
          "output_type": "stream",
          "name": "stdout",
          "text": [
            "I like to play football. I hated it in my childhood though\n",
            "VERB\n",
            "VBD\n",
            "verb, past tense\n",
            "I            PRON       PRP     pronoun, personal\n",
            "like         VERB       VBP     verb, non-3rd person singular present\n",
            "to           PART       TO      infinitival \"to\"\n",
            "play         VERB       VB      verb, base form\n",
            "football     NOUN       NN      noun, singular or mass\n",
            ".            PUNCT      .       punctuation mark, sentence closer\n",
            "I            PRON       PRP     pronoun, personal\n",
            "hated        VERB       VBD     verb, past tense\n",
            "it           PRON       PRP     pronoun, personal\n",
            "in           ADP        IN      conjunction, subordinating or preposition\n",
            "my           PRON       PRP$    pronoun, possessive\n",
            "childhood    NOUN       NN      noun, singular or mass\n",
            "though       ADV        RB      adverb\n"
          ]
        }
      ],
      "source": [
        "import spacy\n",
        "sp = spacy.load('en_core_web_sm')\n",
        "sen = sp(u\"I like to play football. I hated it in my childhood though\")\n",
        "print(sen.text)\n",
        "print(sen[7].pos_)\n",
        "print(sen[7].tag_)\n",
        "print(spacy.explain(sen[7].tag_))\n",
        "for word in sen:\n",
        "    print(f'{word.text:{12}} {word.pos_:{10}} {word.tag_:{8}}{spacy.explain(word.tag_)}')"
      ]
    },
    {
      "cell_type": "code",
      "source": [
        "sen = sp(u'Can you google it?')\n",
        "word = sen[2]"
      ],
      "metadata": {
        "id": "NWOMAspya9k5"
      },
      "execution_count": 4,
      "outputs": []
    },
    {
      "cell_type": "code",
      "source": [
        "print(f'{word.text:{12}} {word.pos_:{10}} {word.tag_:{8}}{spacy.explain(word.tag_)}')\n",
        "sen = sp(u'Can you search it on google?')\n",
        "word = sen[5]"
      ],
      "metadata": {
        "colab": {
          "base_uri": "https://localhost:8080/"
        },
        "id": "3zJp3gZWa-45",
        "outputId": "e23a2693-ab93-41d7-da29-479d79cd41d8"
      },
      "execution_count": 5,
      "outputs": [
        {
          "output_type": "stream",
          "name": "stdout",
          "text": [
            "google       VERB       VB      verb, base form\n"
          ]
        }
      ]
    },
    {
      "cell_type": "code",
      "source": [
        "print(f'{word.text:{12}} {word.pos_:{10}} {word.tag_:{8}}{spacy.explain(word.tag_)}')"
      ],
      "metadata": {
        "colab": {
          "base_uri": "https://localhost:8080/"
        },
        "id": "6mnMQYu2bCxI",
        "outputId": "238e3aa4-3d4d-4248-ce65-7ba35ab7461e"
      },
      "execution_count": 6,
      "outputs": [
        {
          "output_type": "stream",
          "name": "stdout",
          "text": [
            "google       PROPN      NNP     noun, proper singular\n"
          ]
        }
      ]
    },
    {
      "cell_type": "code",
      "source": [
        "sen = sp(u\"I like to play football. I hated it in my childhood though\")"
      ],
      "metadata": {
        "id": "ZM9Cb7LDbFvX"
      },
      "execution_count": 7,
      "outputs": []
    },
    {
      "cell_type": "code",
      "source": [
        "num_pos = sen.count_by(spacy.attrs.POS)\n",
        "num_pos"
      ],
      "metadata": {
        "colab": {
          "base_uri": "https://localhost:8080/"
        },
        "id": "3bMaa1OEbICX",
        "outputId": "4d37d15b-2244-4906-f42d-7ed0e6bda1ed"
      },
      "execution_count": 8,
      "outputs": [
        {
          "output_type": "execute_result",
          "data": {
            "text/plain": [
              "{95: 4, 100: 3, 94: 1, 92: 2, 97: 1, 85: 1, 86: 1}"
            ]
          },
          "metadata": {},
          "execution_count": 8
        }
      ]
    },
    {
      "cell_type": "code",
      "source": [
        "for k,v in sorted(num_pos.items()):\n",
        "    print(f'{k}. {sen.vocab[k].text:{8}}: {v}')"
      ],
      "metadata": {
        "colab": {
          "base_uri": "https://localhost:8080/"
        },
        "id": "WjJfaWAbbKZv",
        "outputId": "1dd2c2c5-7eab-420c-ef9f-9f0f82914daf"
      },
      "execution_count": 9,
      "outputs": [
        {
          "output_type": "stream",
          "name": "stdout",
          "text": [
            "85. ADP     : 1\n",
            "86. ADV     : 1\n",
            "92. NOUN    : 2\n",
            "94. PART    : 1\n",
            "95. PRON    : 4\n",
            "97. PUNCT   : 1\n",
            "100. VERB    : 3\n"
          ]
        }
      ]
    },
    {
      "cell_type": "code",
      "source": [
        "from spacy import displacy"
      ],
      "metadata": {
        "id": "IbH0pL1WbNaT"
      },
      "execution_count": 10,
      "outputs": []
    },
    {
      "cell_type": "code",
      "source": [
        "sen = sp(u\"I like to play football. I hated it in my childhood though\")\n",
        "displacy.serve(sen, style='dep', options={'distance': 120})"
      ],
      "metadata": {
        "colab": {
          "base_uri": "https://localhost:8080/"
        },
        "id": "v7jnebe8bQsO",
        "outputId": "1df23065-ec6d-452c-8d4d-87cf50f6be8d"
      },
      "execution_count": null,
      "outputs": [
        {
          "output_type": "stream",
          "name": "stdout",
          "text": [
            "\n",
            "Using the 'dep' visualizer\n",
            "Serving on http://0.0.0.0:5000 ...\n",
            "\n"
          ]
        }
      ]
    }
  ]
}