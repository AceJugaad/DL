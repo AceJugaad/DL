{
  "nbformat": 4,
  "nbformat_minor": 0,
  "metadata": {
    "colab": {
      "provenance": []
    },
    "kernelspec": {
      "name": "python3",
      "display_name": "Python 3"
    },
    "language_info": {
      "name": "python"
    }
  },
  "cells": [
    {
      "cell_type": "code",
      "execution_count": null,
      "metadata": {
        "id": "gizZrtJ8kedf"
      },
      "outputs": [],
      "source": [
        "pip install torch==1.3.1+cpu -f https://download.pytorch.org/whl/torch_stable.html\n",
        "!pip install inltk\n",
        "!pip install tornado==4.5.3\n",
        "from inltk.inltk import setup\n",
        "setup('hi')\n",
        "from inltk.inltk import get_similar_sentences\n",
        "# get similar sentences to the one given in hindi\n",
        "output = get_similar_sentences('म◌ै◌ं आज बŠ त ख¸श ह◌ू◌ं', 5,\n",
        "'hi') print(output)"
      ]
    }
  ]
}