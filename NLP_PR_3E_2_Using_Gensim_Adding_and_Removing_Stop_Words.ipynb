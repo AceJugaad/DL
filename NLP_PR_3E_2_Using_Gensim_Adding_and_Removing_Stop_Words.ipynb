{
  "nbformat": 4,
  "nbformat_minor": 0,
  "metadata": {
    "colab": {
      "provenance": []
    },
    "kernelspec": {
      "name": "python3",
      "display_name": "Python 3"
    },
    "language_info": {
      "name": "python"
    }
  },
  "cells": [
    {
      "cell_type": "code",
      "execution_count": 3,
      "metadata": {
        "colab": {
          "base_uri": "https://localhost:8080/"
        },
        "id": "7dtQApmjfCd-",
        "outputId": "ce730de1-1cbf-4172-e393-6cdc7cf9d552"
      },
      "outputs": [
        {
          "output_type": "stream",
          "name": "stdout",
          "text": [
            "Requirement already satisfied: gensim in /usr/local/lib/python3.10/dist-packages (4.3.1)\n",
            "Requirement already satisfied: numpy>=1.18.5 in /usr/local/lib/python3.10/dist-packages (from gensim) (1.22.4)\n",
            "Requirement already satisfied: scipy>=1.7.0 in /usr/local/lib/python3.10/dist-packages (from gensim) (1.10.1)\n",
            "Requirement already satisfied: smart-open>=1.8.1 in /usr/local/lib/python3.10/dist-packages (from gensim) (6.3.0)\n"
          ]
        },
        {
          "output_type": "stream",
          "name": "stderr",
          "text": [
            "[nltk_data] Downloading package punkt to /root/nltk_data...\n",
            "[nltk_data]   Unzipping tokenizers/punkt.zip.\n"
          ]
        },
        {
          "output_type": "stream",
          "name": "stdout",
          "text": [
            "Yashesh likes play football, fond tennis.\n",
            "frozenset({'twenty', 'three', 'whereafter', 'unless', 'were', 'done', 'us', 'thru', 'throughout', 'behind', 'upon', 'beforehand', 'will', 'with', 'often', 'very', 'become', 'computer', 'latterly', 'cannot', 'latter', 'in', 'until', 'now', 'regarding', 'ever', 'formerly', 'ten', 'perhaps', 'and', 'thin', 'indeed', 'without', 'onto', 'herself', 'afterwards', 'yours', 'everyone', 'make', 'all', 'several', 'seemed', 'did', 'which', 'these', 'co', 'also', 'almost', 'four', 'ours', 'another', 'more', 'something', 'about', 'please', 'a', 'anyone', 'anywhere', 'whence', 'other', 'that', 'while', 'beside', 'wherein', 'various', 'be', 'whose', 'therefore', 'move', 'somehow', 'former', 'couldnt', 'on', 'must', 'his', 'but', 'own', 'forty', 'don', 'within', 'nothing', 'this', 'your', 'front', 'we', 'amongst', 'ie', 'hereby', 'however', 'find', 'towards', 'into', 'me', 'themselves', 'thence', 'eight', 'again', 'when', 'others', 'besides', 'per', 'except', 'six', 'might', 'because', 'give', 'some', 'detail', 'or', 'than', 'across', 'part', 'name', 'hence', 'around', 'during', 'been', 'same', 'moreover', 'its', 'therein', 'mostly', 'bill', 'go', 'many', 'above', 'least', 'up', 'using', 'further', 'what', 'thick', 'thus', 'less', 'already', 'via', 'empty', 'mill', 'became', 'after', 'whenever', 'anything', 'may', 'seeming', 'eg', 'then', 'him', 'whither', 'interest', 'hundred', 're', 'alone', 'whatever', 'due', 'say', 'an', 'here', 'doing', 'seem', 'so', 'cant', 'among', 'even', 'either', 'if', 'had', 'next', 'becomes', 'amount', 'sometime', 'nor', 'have', 'where', 'any', 'twelve', 'too', 'such', 'con', 'fifty', 'few', 'between', 'there', 'of', 'ourselves', 'they', 'before', 'nine', 'fifteen', 'rather', 'nobody', 'out', 'always', 'back', 'mine', 'system', 'over', 'whoever', 'being', 'sincere', 'not', 'why', 'namely', 'himself', 'call', 'whereupon', 'five', 'first', 'un', 'one', 'whom', 'becoming', 'our', 'eleven', 'otherwise', 'kg', 'serious', 'whereby', 'it', 'elsewhere', 'quite', 'thereby', 'from', 'are', 'sixty', 'else', 'noone', 'only', 'used', 'fill', 'bottom', 'put', 'ltd', 'though', 'neither', 'keep', 'each', 'hereafter', 'anyway', 'toward', 'the', 'do', 'meanwhile', 'under', 'my', 'much', 'itself', 'yourself', 'show', 'how', 'amoungst', 'by', 'cry', 'at', 'never', 'everywhere', 'made', 'was', 'enough', 'yourselves', 'thereupon', 'get', 'could', 'top', 'whether', 'you', 'hasnt', 'herein', 'someone', 'none', 'her', 'anyhow', 'can', 'although', 'found', 'since', 'he', 'every', 'see', 'hereupon', 'just', 'has', 'through', 'describe', 'against', 'wherever', 'doesn', 'nevertheless', 'two', 'who', 'inc', 'i', 'third', 'etc', 'them', 'really', 'full', 'those', 'is', 'didn', 'most', 'no', 'yet', 'would', 'fire', 'does', 'whole', 'side', 'beyond', 'am', 'hers', 'she', 'km', 'together', 'take', 'their', 'along', 'once', 'off', 'as', 'to', 'still', 'down', 'should', 'somewhere', 'below', 'de', 'nowhere', 'for', 'seems', 'whereas', 'both', 'last', 'well', 'myself', 'everything', 'sometimes', 'thereafter'})\n",
            "['Yashesh', 'football', ',', 'fond', 'tennis', '.']\n",
            "['Yashesh', 'likes', 'play', 'football', ',', 'not', 'fond', 'tennis', '.']\n"
          ]
        }
      ],
      "source": [
        "!pip install gensim\n",
        "import gensim\n",
        "from gensim.parsing.preprocessing import remove_stopwords\n",
        "import nltk\n",
        "from nltk.tokenize import word_tokenize\n",
        "nltk.download('punkt')\n",
        "text = \"Yashesh likes to play football, however he is not too fond of tennis.\"\n",
        "filtered_sentence = remove_stopwords(text)\n",
        "print(filtered_sentence)\n",
        "all_stopwords = gensim.parsing.preprocessing.STOPWORDS\n",
        "print(all_stopwords)\n",
        "'''The following script adds likes and play to the list of stop words in Gensim:'''\n",
        "from gensim.parsing.preprocessing import STOPWORDS\n",
        "all_stopwords_gensim = STOPWORDS.union(set(['likes', 'play']))\n",
        "text = \"Yashesh likes to play football, however he is not too fond of tennis.\"\n",
        "text_tokens = word_tokenize(text)\n",
        "tokens_without_sw = [word for word in text_tokens if not word in\n",
        "all_stopwords_gensim]\n",
        "print(tokens_without_sw)\n",
        "'''Output:\n",
        "['Yashesh', 'football', ',', 'fond', 'tennis', '.']\n",
        "The following script removes the word \"not\" from the set of stop words in\n",
        "Gensim:'''\n",
        "from gensim.parsing.preprocessing import STOPWORDS\n",
        "all_stopwords_gensim = STOPWORDS\n",
        "sw_list = {\"not\"}\n",
        "all_stopwords_gensim = STOPWORDS.difference(sw_list)\n",
        "text = \"Yashesh likes to play football, however he is not too fond of tennis.\"\n",
        "text_tokens = word_tokenize(text)\n",
        "tokens_without_sw = [word for word in text_tokens if not word in\n",
        "all_stopwords_gensim]\n",
        "print(tokens_without_sw)"
      ]
    }
  ]
}