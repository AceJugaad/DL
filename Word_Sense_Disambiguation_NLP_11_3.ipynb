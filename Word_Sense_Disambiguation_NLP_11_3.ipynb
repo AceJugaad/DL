{
  "nbformat": 4,
  "nbformat_minor": 0,
  "metadata": {
    "colab": {
      "provenance": []
    },
    "kernelspec": {
      "name": "python3",
      "display_name": "Python 3"
    },
    "language_info": {
      "name": "python"
    }
  },
  "cells": [
    {
      "cell_type": "code",
      "execution_count": null,
      "metadata": {
        "colab": {
          "base_uri": "https://localhost:8080/"
        },
        "id": "wIRPwUg1UWBo",
        "outputId": "05b6ed54-56dd-4cbc-9f0a-4fd3f4d22b72"
      },
      "outputs": [
        {
          "output_type": "stream",
          "name": "stderr",
          "text": [
            "[nltk_data] Downloading package wordnet to /root/nltk_data...\n"
          ]
        },
        {
          "output_type": "execute_result",
          "data": {
            "text/plain": [
              "True"
            ]
          },
          "metadata": {},
          "execution_count": 6
        }
      ],
      "source": [
        "from nltk.corpus import wordnet as wn\n",
        "import nltk\n",
        "nltk.download('wordnet')"
      ]
    },
    {
      "cell_type": "code",
      "source": [
        "def get_first_sense(word, pos=None):\n",
        "    if pos:\n",
        "        synsets =wn.synsets(word,pos)\n",
        "    else:\n",
        "        synsets =wn.synsets(word)\n",
        "    return synsets[0]"
      ],
      "metadata": {
        "id": "AI38QcjdUgDu"
      },
      "execution_count": null,
      "outputs": []
    },
    {
      "cell_type": "code",
      "source": [
        "best_synset = get_first_sense('bank')\n",
        "print ('%s: %s' % (best_synset.name,best_synset.definition))\n",
        "best_synset =get_first_sense('set','n')\n",
        "print ('%s: %s' % (best_synset.name,best_synset.definition))\n",
        "best_synset =get_first_sense('set','v')\n",
        "print ('%s: %s' % (best_synset.name, best_synset.definition))"
      ],
      "metadata": {
        "colab": {
          "base_uri": "https://localhost:8080/"
        },
        "id": "MVR5RkXEU4JL",
        "outputId": "dd756f3b-7919-4cab-a944-90d6c0657669"
      },
      "execution_count": null,
      "outputs": [
        {
          "output_type": "stream",
          "name": "stdout",
          "text": [
            "<bound method Synset.name of Synset('bank.n.01')>: <bound method Synset.definition of Synset('bank.n.01')>\n",
            "<bound method Synset.name of Synset('set.n.01')>: <bound method Synset.definition of Synset('set.n.01')>\n",
            "<bound method Synset.name of Synset('put.v.01')>: <bound method Synset.definition of Synset('put.v.01')>\n"
          ]
        }
      ]
    }
  ]
}