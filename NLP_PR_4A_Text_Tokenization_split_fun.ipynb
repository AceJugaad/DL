{
  "nbformat": 4,
  "nbformat_minor": 0,
  "metadata": {
    "colab": {
      "provenance": []
    },
    "kernelspec": {
      "name": "python3",
      "display_name": "Python 3"
    },
    "language_info": {
      "name": "python"
    }
  },
  "cells": [
    {
      "cell_type": "code",
      "execution_count": 1,
      "metadata": {
        "id": "B2Yl33ZvyDkV"
      },
      "outputs": [],
      "source": [
        "text = \"\"\" This tool is an a beta stage. Alexa developers can use Get Metrics API to\n",
        "seamlessly analyse metric. It also supports custom skill model, prebuilt Flash Briefing\n",
        "model, and the Smart Home Skill API. You can use this tool for creation of monitors,\n",
        "alarms, and dashboards that spotlight changes. The release of these three tools will\n",
        "enable developers to create visual rich skills for Alexa devices with screens. Amazon\n",
        "describes these tools as the collection of tech and tools for creating visually rich and\n",
        "interactive voice experiences. \"\"\""
      ]
    },
    {
      "cell_type": "code",
      "source": [
        "data = text.split('.')"
      ],
      "metadata": {
        "id": "a-J4Nox-0zAt"
      },
      "execution_count": 2,
      "outputs": []
    },
    {
      "cell_type": "code",
      "source": [
        "for i in data:\n",
        "    print (i)"
      ],
      "metadata": {
        "colab": {
          "base_uri": "https://localhost:8080/"
        },
        "id": "pZSWDuxg04dj",
        "outputId": "2b8e528f-8bd0-48c2-bcda-5e4538a74a09"
      },
      "execution_count": 4,
      "outputs": [
        {
          "output_type": "stream",
          "name": "stdout",
          "text": [
            " This tool is an a beta stage\n",
            " Alexa developers can use Get Metrics API to\n",
            "seamlessly analyse metric\n",
            " It also supports custom skill model, prebuilt Flash Briefing\n",
            "model, and the Smart Home Skill API\n",
            " You can use this tool for creation of monitors,\n",
            "alarms, and dashboards that spotlight changes\n",
            " The release of these three tools will\n",
            "enable developers to create visual rich skills for Alexa devices with screens\n",
            " Amazon\n",
            "describes these tools as the collection of tech and tools for creating visually rich and\n",
            "interactive voice experiences\n",
            " \n"
          ]
        }
      ]
    }
  ]
}