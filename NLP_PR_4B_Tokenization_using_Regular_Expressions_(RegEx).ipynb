{
  "nbformat": 4,
  "nbformat_minor": 0,
  "metadata": {
    "colab": {
      "provenance": []
    },
    "kernelspec": {
      "name": "python3",
      "display_name": "Python 3"
    },
    "language_info": {
      "name": "python"
    }
  },
  "cells": [
    {
      "cell_type": "code",
      "execution_count": 1,
      "metadata": {
        "colab": {
          "base_uri": "https://localhost:8080/"
        },
        "id": "GpamPx8J1JWl",
        "outputId": "f7e0cefd-a071-4991-b884-570b24961249"
      },
      "outputs": [
        {
          "output_type": "stream",
          "name": "stdout",
          "text": [
            "['I', 'love', 'to', 'study', 'Natural', 'Language', 'Processing', 'in', 'Python']\n"
          ]
        }
      ],
      "source": [
        "import nltk\n",
        "\n",
        "from nltk.tokenize import RegexpTokenizer\n",
        "\n",
        "tk = RegexpTokenizer('\\s+', gaps = True)\n",
        "\n",
        "str = \"I love to study Natural Language Processing in Python\"\n",
        "\n",
        "tokens = tk.tokenize(str)\n",
        "print(tokens)"
      ]
    }
  ]
}