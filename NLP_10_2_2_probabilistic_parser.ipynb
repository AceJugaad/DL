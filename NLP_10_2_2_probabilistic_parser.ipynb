{
  "nbformat": 4,
  "nbformat_minor": 0,
  "metadata": {
    "colab": {
      "provenance": []
    },
    "kernelspec": {
      "name": "python3",
      "display_name": "Python 3"
    },
    "language_info": {
      "name": "python"
    }
  },
  "cells": [
    {
      "cell_type": "code",
      "execution_count": null,
      "metadata": {
        "id": "3bor3Tm9W4OT"
      },
      "outputs": [],
      "source": [
        "import nltk\n",
        "from nltk import PCFG"
      ]
    },
    {
      "cell_type": "code",
      "source": [
        "grammar = PCFG.fromstring('''\n",
        "NP -> NNS [0.5] | JJ NNS [0.3] | NP CC NP [0.2]\n",
        "NNS -> \"men\" [0.1] | \"women\" [0.2] | \"children\" [0.3] | NNS CC NNS [0.4]\n",
        "JJ -> \"old\" [0.4] | \"young\" [0.6]\n",
        "CC -> \"and\" [0.9] | \"or\" [0.1]\n",
        "''')"
      ],
      "metadata": {
        "id": "vyfTqAo5W_2u"
      },
      "execution_count": null,
      "outputs": []
    },
    {
      "cell_type": "code",
      "source": [
        "print(grammar)"
      ],
      "metadata": {
        "colab": {
          "base_uri": "https://localhost:8080/"
        },
        "id": "JDkObiJaXvDu",
        "outputId": "78b26802-4894-42c4-c4a6-d5fd1b41d8ad"
      },
      "execution_count": null,
      "outputs": [
        {
          "output_type": "stream",
          "name": "stdout",
          "text": [
            "Grammar with 11 productions (start state = NP)\n",
            "    NP -> NNS [0.5]\n",
            "    NP -> JJ NNS [0.3]\n",
            "    NP -> NP CC NP [0.2]\n",
            "    NNS -> 'men' [0.1]\n",
            "    NNS -> 'women' [0.2]\n",
            "    NNS -> 'children' [0.3]\n",
            "    NNS -> NNS CC NNS [0.4]\n",
            "    JJ -> 'old' [0.4]\n",
            "    JJ -> 'young' [0.6]\n",
            "    CC -> 'and' [0.9]\n",
            "    CC -> 'or' [0.1]\n"
          ]
        }
      ]
    },
    {
      "cell_type": "code",
      "source": [
        "viterbi_parser = nltk.ViterbiParser(grammar)"
      ],
      "metadata": {
        "id": "rYjYPVSjXxLj"
      },
      "execution_count": null,
      "outputs": []
    },
    {
      "cell_type": "code",
      "source": [
        "token = \"old men and women\".split()"
      ],
      "metadata": {
        "id": "h8pYQzDfXzmV"
      },
      "execution_count": null,
      "outputs": []
    },
    {
      "cell_type": "code",
      "source": [
        "obj = viterbi_parser.parse(token)"
      ],
      "metadata": {
        "id": "8gvApCvAX1_n"
      },
      "execution_count": null,
      "outputs": []
    },
    {
      "cell_type": "code",
      "source": [
        "print(\"Output: \")\n",
        "for x in obj:\n",
        "    print(x)"
      ],
      "metadata": {
        "id": "c2PufRmlX3h8",
        "outputId": "cc3f231b-cd92-47ed-b4c2-47ef2dc5317b",
        "colab": {
          "base_uri": "https://localhost:8080/"
        }
      },
      "execution_count": null,
      "outputs": [
        {
          "output_type": "stream",
          "name": "stdout",
          "text": [
            "Output: \n",
            "(NP (JJ old) (NNS (NNS men) (CC and) (NNS women))) (p=0.000864)\n"
          ]
        }
      ]
    }
  ]
}