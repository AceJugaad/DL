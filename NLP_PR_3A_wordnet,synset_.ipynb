{
  "nbformat": 4,
  "nbformat_minor": 0,
  "metadata": {
    "colab": {
      "provenance": []
    },
    "kernelspec": {
      "name": "python3",
      "display_name": "Python 3"
    },
    "language_info": {
      "name": "python"
    }
  },
  "cells": [
    {
      "cell_type": "code",
      "execution_count": 2,
      "metadata": {
        "colab": {
          "base_uri": "https://localhost:8080/"
        },
        "id": "TPmIQ3bdblKQ",
        "outputId": "d670ec65-0251-45e4-ebe2-367e0661bc9d"
      },
      "outputs": [
        {
          "output_type": "stream",
          "name": "stderr",
          "text": [
            "[nltk_data] Downloading package wordnet to /root/nltk_data...\n"
          ]
        },
        {
          "output_type": "stream",
          "name": "stdout",
          "text": [
            "[Synset('computer.n.01'), Synset('calculator.n.01')]\n",
            "a machine for performing calculations automatically\n",
            "Examples: []\n",
            "[Lemma('sell.v.01.sell')]\n"
          ]
        }
      ],
      "source": [
        "import nltk\n",
        "from nltk.corpus import wordnet\n",
        "import nltk\n",
        "nltk.download('wordnet')\n",
        "print(wordnet.synsets(\"computer\"))\n",
        "# definition and example of the word ‘computer’\n",
        "print(wordnet.synset(\"computer.n.01\").definition())\n",
        "#examples\n",
        "print(\"Examples:\", wordnet.synset(\"computer.n.01\").examples())\n",
        "#get Antonyms\n",
        "print(wordnet.lemma('buy.v.01.buy').antonyms())"
      ]
    }
  ]
}