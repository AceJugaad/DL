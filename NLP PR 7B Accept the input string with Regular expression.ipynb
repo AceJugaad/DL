{
  "nbformat": 4,
  "nbformat_minor": 0,
  "metadata": {
    "colab": {
      "provenance": []
    },
    "kernelspec": {
      "name": "python3",
      "display_name": "Python 3"
    },
    "language_info": {
      "name": "python"
    }
  },
  "cells": [
    {
      "cell_type": "code",
      "execution_count": 22,
      "metadata": {
        "colab": {
          "base_uri": "https://localhost:8080/"
        },
        "id": "SGfh_fb3sdEq",
        "outputId": "30af3af4-c790-4cc8-98a5-dab36099135a"
      },
      "outputs": [
        {
          "output_type": "stream",
          "name": "stdout",
          "text": [
            "Accepted\n",
            "Accepted\n",
            "Accepted\n",
            "Rejected\n",
            "Rejected\n",
            "Rejected\n",
            "Rejected\n"
          ]
        }
      ],
      "source": [
        "def FA(s):\n",
        "  size=0\n",
        "  for i in s:\n",
        "    if i=='a' or i=='b':\n",
        "      size+=1\n",
        "    else:\n",
        "        return \"Rejected\"\n",
        "  if size>=3:\n",
        "    if s[size-3]=='b':\n",
        "      if s[size-2]=='b':\n",
        "        if s[size-1]=='a':\n",
        "          return \"Accepted\"\n",
        "        return \"Rejected\"\n",
        "      return \"Rejected\"\n",
        "    return \"Rejected\"\n",
        "  return \"Rejected\"\n",
        "\n",
        "inputs=['bba', 'ababbba', 'abba','abb', 'baba','bbb','']\n",
        "for i in inputs:\n",
        " print(FA(i))"
      ]
    }
  ]
}