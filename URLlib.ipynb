{
  "nbformat": 4,
  "nbformat_minor": 0,
  "metadata": {
    "colab": {
      "provenance": []
    },
    "kernelspec": {
      "name": "python3",
      "display_name": "Python 3"
    },
    "language_info": {
      "name": "python"
    }
  },
  "cells": [
    {
      "cell_type": "code",
      "execution_count": 1,
      "metadata": {
        "id": "LOnNYCKtgJkC"
      },
      "outputs": [],
      "source": [
        "import urllib.request"
      ]
    },
    {
      "cell_type": "code",
      "source": [
        "urllib.request.urlretrieve(\"http://raw.githubusercontent.com/AceJugaad/DL/main/prac_2.py\",\"prac_2\")"
      ],
      "metadata": {
        "colab": {
          "base_uri": "https://localhost:8080/"
        },
        "id": "XNQ0RwXGgQnE",
        "outputId": "57c1c14a-20fe-422f-b056-379da1063c98"
      },
      "execution_count": 3,
      "outputs": [
        {
          "output_type": "execute_result",
          "data": {
            "text/plain": [
              "('prac_1', <http.client.HTTPMessage at 0x7f40dd0d02e0>)"
            ]
          },
          "metadata": {},
          "execution_count": 3
        }
      ]
    }
  ]
}